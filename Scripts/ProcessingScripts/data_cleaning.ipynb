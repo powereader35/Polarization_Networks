{
 "cells": [
  {
   "cell_type": "code",
   "execution_count": 2,
   "id": "fb7d4eb1",
   "metadata": {},
   "outputs": [
    {
     "name": "stdout",
     "output_type": "stream",
     "text": [
      "<class 'pandas.core.frame.DataFrame'>\n",
      "RangeIndex: 24201654 entries, 0 to 24201653\n",
      "Data columns (total 13 columns):\n",
      " #   Column            Dtype  \n",
      "---  ------            -----  \n",
      " 0   Created-At        object \n",
      " 1   From-User-Id      int64  \n",
      " 2   To-User-Id        int64  \n",
      " 3   Language          object \n",
      " 4   Retweet-Count     float64\n",
      " 5   PartyName         object \n",
      " 6   Id                int64  \n",
      " 7   Score             float64\n",
      " 8   Scoring String    object \n",
      " 9   Negativity        float64\n",
      " 10  Positivity        float64\n",
      " 11  Uncovered Tokens  int64  \n",
      " 12  Total Tokens      int64  \n",
      "dtypes: float64(4), int64(5), object(4)\n",
      "memory usage: 2.3+ GB\n"
     ]
    },
    {
     "data": {
      "text/plain": [
       "(None,\n",
       "        Created-At         From-User-Id  To-User-Id Language  Retweet-Count  \\\n",
       " 0  7/1/20 7:44 PM  1223446325758394369   387882597       en            0.0   \n",
       " 1  7/1/20 7:44 PM  1001407960252342273          -1       en          178.0   \n",
       " 2  7/1/20 7:44 PM  1178522693840392195          -1       en            2.0   \n",
       " 3  7/1/20 7:44 PM             64267482    65497475       en            0.0   \n",
       " 4  7/1/20 7:44 PM  1068507190103699456          -1       en           28.0   \n",
       " \n",
       "      PartyName                   Id     Score  \\\n",
       " 0    BothParty  1278368973948694528  0.102564   \n",
       " 1  Republicans  1278368973923528704 -0.589744   \n",
       " 2    Democrats  1278368973910937600  0.692308   \n",
       " 3  Republicans  1278368973893951489 -1.461538   \n",
       " 4  Republicans  1278368973881511936  0.025641   \n",
       " \n",
       "                                       Scoring String  Negativity  Positivity  \\\n",
       " 0         yep (0.31)  torturing (-0.77)  care (0.56)    0.769231    0.871795   \n",
       " 1                                       ugly (-0.59)    0.589744    0.000000   \n",
       " 2                            okay (0.23)  lol (0.46)    0.000000    0.692308   \n",
       " 3  damage (-0.56)  incompetent (-0.54)  resign (-...    1.461538    0.000000   \n",
       " 4         clean (0.44)  threat (-0.62)  admit (0.21)    0.615385    0.641026   \n",
       " \n",
       "    Uncovered Tokens  Total Tokens  \n",
       " 0                21            24  \n",
       " 1                22            23  \n",
       " 2                17            19  \n",
       " 3                30            33  \n",
       " 4                28            31  )"
      ]
     },
     "execution_count": 2,
     "metadata": {},
     "output_type": "execute_result"
    }
   ],
   "source": [
    "import pandas as pd\n",
    "\n",
    "#file_path = r\"C:/Users/justi/OneDrive/Desktop/BU RISE/github/data_twitter/uselection_tweets_1jul_11nov_reduced_size.csv\"\n",
    "file_path = r\"C:\\Users\\justi\\OneDrive\\Desktop\\BU RISE\\github\\data_twitter\\uselection_tweets_1jul_11nov.csv\"\n",
    "# replace with your own relative file path\n",
    "df = pd.read_csv(file_path, sep = ';')\n",
    "\n",
    "df.info(),df.head()"
   ]
  },
  {
   "cell_type": "code",
   "execution_count": 3,
   "id": "9586c9df",
   "metadata": {},
   "outputs": [
    {
     "name": "stderr",
     "output_type": "stream",
     "text": [
      "C:\\Users\\justi\\AppData\\Local\\Temp\\ipykernel_1376\\1559864130.py:10: SettingWithCopyWarning: \n",
      "A value is trying to be set on a copy of a slice from a DataFrame.\n",
      "Try using .loc[row_indexer,col_indexer] = value instead\n",
      "\n",
      "See the caveats in the documentation: https://pandas.pydata.org/pandas-docs/stable/user_guide/indexing.html#returning-a-view-versus-a-copy\n",
      "  data['From-User-Id'] = data['From-User-Id'].astype(str)\n",
      "C:\\Users\\justi\\AppData\\Local\\Temp\\ipykernel_1376\\1559864130.py:11: SettingWithCopyWarning: \n",
      "A value is trying to be set on a copy of a slice from a DataFrame.\n",
      "Try using .loc[row_indexer,col_indexer] = value instead\n",
      "\n",
      "See the caveats in the documentation: https://pandas.pydata.org/pandas-docs/stable/user_guide/indexing.html#returning-a-view-versus-a-copy\n",
      "  data['To-User-Id'] = data['To-User-Id'].astype(str)\n",
      "C:\\Users\\justi\\AppData\\Local\\Temp\\ipykernel_1376\\1559864130.py:12: SettingWithCopyWarning: \n",
      "A value is trying to be set on a copy of a slice from a DataFrame.\n",
      "Try using .loc[row_indexer,col_indexer] = value instead\n",
      "\n",
      "See the caveats in the documentation: https://pandas.pydata.org/pandas-docs/stable/user_guide/indexing.html#returning-a-view-versus-a-copy\n",
      "  data['Id'] = data['Id'].astype(str)\n",
      "C:\\Users\\justi\\AppData\\Local\\Temp\\ipykernel_1376\\1559864130.py:13: SettingWithCopyWarning: \n",
      "A value is trying to be set on a copy of a slice from a DataFrame.\n",
      "Try using .loc[row_indexer,col_indexer] = value instead\n",
      "\n",
      "See the caveats in the documentation: https://pandas.pydata.org/pandas-docs/stable/user_guide/indexing.html#returning-a-view-versus-a-copy\n",
      "  data['Language'] = data['Language'].str.lower()\n"
     ]
    },
    {
     "name": "stdout",
     "output_type": "stream",
     "text": [
      "<class 'pandas.core.frame.DataFrame'>\n",
      "RangeIndex: 24201654 entries, 0 to 24201653\n",
      "Data columns (total 14 columns):\n",
      " #   Column                         Dtype         \n",
      "---  ------                         -----         \n",
      " 0   Created-At                     datetime64[ns]\n",
      " 1   From-User-Id                   object        \n",
      " 2   To-User-Id                     object        \n",
      " 3   Language                       object        \n",
      " 4   Retweet-Count                  float64       \n",
      " 5   PartyName                      object        \n",
      " 6   Id                             object        \n",
      " 7   Score                          float64       \n",
      " 8   Scoring String                 object        \n",
      " 9   Negativity                     float64       \n",
      " 10  Positivity                     float64       \n",
      " 11  Uncovered Tokens               int64         \n",
      " 12  Total Tokens                   int64         \n",
      " 13  Implied_Political_Affiliation  object        \n",
      "dtypes: datetime64[ns](1), float64(4), int64(2), object(7)\n",
      "memory usage: 2.5+ GB\n"
     ]
    },
    {
     "name": "stderr",
     "output_type": "stream",
     "text": [
      "C:\\Users\\justi\\AppData\\Local\\Temp\\ipykernel_1376\\1559864130.py:37: SettingWithCopyWarning: \n",
      "A value is trying to be set on a copy of a slice from a DataFrame.\n",
      "Try using .loc[row_indexer,col_indexer] = value instead\n",
      "\n",
      "See the caveats in the documentation: https://pandas.pydata.org/pandas-docs/stable/user_guide/indexing.html#returning-a-view-versus-a-copy\n",
      "  df_directed['Implied_Political_Affiliation'] = df_directed.apply(infer_affiliation, axis=1)\n"
     ]
    },
    {
     "data": {
      "text/plain": [
       "(           Created-At         From-User-Id To-User-Id Language  Retweet-Count  \\\n",
       " 0 2020-07-01 19:44:00  1223446325758394369  387882597       en            0.0   \n",
       " 1 2020-07-01 19:44:00  1001407960252342273       <NA>       en          178.0   \n",
       " 2 2020-07-01 19:44:00  1178522693840392195       <NA>       en            2.0   \n",
       " 3 2020-07-01 19:44:00             64267482   65497475       en            0.0   \n",
       " 4 2020-07-01 19:44:00  1068507190103699456       <NA>       en           28.0   \n",
       " \n",
       "      PartyName                   Id     Score  \\\n",
       " 0    Bothparty  1278368973948694528  0.102564   \n",
       " 1  Republicans  1278368973923528704 -0.589744   \n",
       " 2    Democrats  1278368973910937600  0.692308   \n",
       " 3  Republicans  1278368973893951489 -1.461538   \n",
       " 4  Republicans  1278368973881511936  0.025641   \n",
       " \n",
       "                                       Scoring String  Negativity  Positivity  \\\n",
       " 0         yep (0.31)  torturing (-0.77)  care (0.56)    0.769231    0.871795   \n",
       " 1                                       ugly (-0.59)    0.589744    0.000000   \n",
       " 2                            okay (0.23)  lol (0.46)    0.000000    0.692308   \n",
       " 3  damage (-0.56)  incompetent (-0.54)  resign (-...    1.461538    0.000000   \n",
       " 4         clean (0.44)  threat (-0.62)  admit (0.21)    0.615385    0.641026   \n",
       " \n",
       "    Uncovered Tokens  Total Tokens Implied_Political_Affiliation  \n",
       " 0                21            24                  Inconclusive  \n",
       " 1                22            23                      Democrat  \n",
       " 2                17            19                      Democrat  \n",
       " 3                30            33                      Democrat  \n",
       " 4                28            31                    Republican  ,\n",
       " None)"
      ]
     },
     "execution_count": 3,
     "metadata": {},
     "output_type": "execute_result"
    }
   ],
   "source": [
    "df['Created-At'] = pd.to_datetime(df['Created-At'], format=\"%m/%d/%y %I:%M %p\", errors='coerce')\n",
    "\n",
    "df_directed = df \n",
    "\n",
    "df_directed['To-User-Id'] = df_directed['To-User-Id'].replace(-1, pd.NA, inplace=False)\n",
    "df_directed = df_directed.dropna()\n",
    "\n",
    "def clean(data):\n",
    "    df['PartyName'] = df['PartyName'].str.title()\n",
    "    data['From-User-Id'] = data['From-User-Id'].astype(str)\n",
    "    data['To-User-Id'] = data['To-User-Id'].astype(str)\n",
    "    data['Id'] = data['Id'].astype(str)\n",
    "    data['Language'] = data['Language'].str.lower()\n",
    "    data = data.drop_duplicates(subset='Id')\n",
    "    data = data[data['Total Tokens'] > 0]\n",
    "    data = data[data['From-User-Id'] != data['To-User-Id']]\n",
    "\n",
    "def infer_affiliation(row):\n",
    "    party = row['PartyName']\n",
    "    score = row['Score']\n",
    "    \n",
    "    if party == 'Democrats':\n",
    "        if score > 0:\n",
    "            return 'Democrat'\n",
    "        elif score < 0:\n",
    "            return 'Republican'\n",
    "    elif party == 'Republicans':\n",
    "        if score > 0:\n",
    "            return 'Republican'\n",
    "        elif score < 0:\n",
    "            return 'Democrat'\n",
    "    return 'Inconclusive'\n",
    "\n",
    "clean(df)\n",
    "clean(df_directed)\n",
    "df['Implied_Political_Affiliation'] = df.apply(infer_affiliation, axis=1)\n",
    "df_directed['Implied_Political_Affiliation'] = df_directed.apply(infer_affiliation, axis=1)\n",
    "\n",
    "\n",
    "df.head(),df.info()"
   ]
  },
  {
   "cell_type": "code",
   "execution_count": 4,
   "id": "ed3959d3",
   "metadata": {},
   "outputs": [],
   "source": [
    "df.to_csv('../../data_twitter/clean_tweets_notdirected.csv', index=False)\n",
    "df_directed.to_csv('../../data_twitter/clean_tweets_directed.csv', index=False)\n",
    "\n",
    "# df has all the original values, including nodes without connections\n",
    "# df_directed only has nodes that are directed. We can apply principles of a directed network to this data"
   ]
  }
 ],
 "metadata": {
  "kernelspec": {
   "display_name": "base",
   "language": "python",
   "name": "python3"
  },
  "language_info": {
   "codemirror_mode": {
    "name": "ipython",
    "version": 3
   },
   "file_extension": ".py",
   "mimetype": "text/x-python",
   "name": "python",
   "nbconvert_exporter": "python",
   "pygments_lexer": "ipython3",
   "version": "3.12.3"
  }
 },
 "nbformat": 4,
 "nbformat_minor": 5
}
