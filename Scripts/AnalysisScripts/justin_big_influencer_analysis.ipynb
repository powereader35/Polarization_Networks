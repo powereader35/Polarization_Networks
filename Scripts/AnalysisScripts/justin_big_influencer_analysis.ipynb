{
 "cells": [
  {
   "cell_type": "code",
   "execution_count": 103,
   "id": "98215389",
   "metadata": {},
   "outputs": [
    {
     "data": {
      "text/plain": [
       "3655957"
      ]
     },
     "execution_count": 103,
     "metadata": {},
     "output_type": "execute_result"
    }
   ],
   "source": [
    "import pandas as pd\n",
    "import matplotlib.pyplot as plt\n",
    "from scipy import stats\n",
    "import numpy as np\n",
    "import seaborn as sns\n",
    "from scipy.stats import gaussian_kde\n",
    "from scipy.integrate import quad\n",
    "from matplotlib.patches import Patch\n",
    "\n",
    "# replace with your own relative file path\n",
    "df = pd.read_csv(r\"C:\\Users\\justi\\OneDrive\\Desktop\\BU RISE\\github\\data_twitter\\clean_tweets_directed.csv\", sep = \",\")\n",
    "len(df)"
   ]
  },
  {
   "cell_type": "code",
   "execution_count": 104,
   "id": "ec05dfaa",
   "metadata": {},
   "outputs": [
    {
     "name": "stdout",
     "output_type": "stream",
     "text": [
      "Number of users in top: 87706\n",
      "Top percentile edge threshold: 10.0\n"
     ]
    }
   ],
   "source": [
    "from_counts = df['From-User-Id'].value_counts()\n",
    "to_counts = df['To-User-Id'].value_counts()\n",
    "total_edge_counts = from_counts.add(to_counts, fill_value=0).astype(int)\n",
    "\n",
    "df['User_Edge_Count'] = df['From-User-Id'].map(total_edge_counts)\n",
    "\n",
    "edge_threshold = total_edge_counts.quantile(0.95)\n",
    "top_percentile_users = total_edge_counts[total_edge_counts > edge_threshold]\n",
    "big_influencers = set(top_percentile_users.index)\n",
    "\n",
    "print(f\"Number of users in top: {len(top_percentile_users)}\")\n",
    "print(f\"Top percentile edge threshold: {edge_threshold}\")\n",
    "\n",
    "df['is_big_influencer'] = df['From-User-Id'].isin(top_percentile_users.index)\n",
    "df['to_big_influencer'] = df['To-User-Id'].isin(top_percentile_users.index)"
   ]
  },
  {
   "cell_type": "code",
   "execution_count": 105,
   "id": "602a175c",
   "metadata": {},
   "outputs": [
    {
     "name": "stdout",
     "output_type": "stream",
     "text": [
      "Number of valid bridging users: 143651\n"
     ]
    }
   ],
   "source": [
    "'''\n",
    "Bridging users = users that identify with an ideology,\n",
    "and who interact with users that align with their own ideologies \n",
    "and users who don't\n",
    "'''\n",
    "\n",
    "df['PartyName'] = df['PartyName'].str.title()\n",
    "affil_map = df.groupby('From-User-Id')['Implied_Political_Affiliation'] \\\n",
    "                         .agg(lambda x: x.mode().iloc[0])\n",
    "\n",
    "df['To-Ideology'] = df['To-User-Id'].map(affil_map)\n",
    "\n",
    "\n",
    "df_filtered = df[df['To-Ideology'].isin(['Democrat','Republican'])]\n",
    "#df_filtered = df\n",
    "\n",
    "interactions = df_filtered.pivot_table(index='From-User-Id',\n",
    "               columns='To-Ideology',\n",
    "               values='Score',   \n",
    "               aggfunc='count',\n",
    "               fill_value=0)\n",
    "\n",
    "\n",
    "interactions['User_Affil'] = affil_map.loc[interactions.index]\n",
    "\n",
    "bridge_percent_threshold = 0.10  # Adjustable\n",
    "\n",
    "def has_enough_opposite_interactions(row):\n",
    "    total_interactions = row.get('Democrat', 0) + row.get('Republican', 0)\n",
    "    if total_interactions == 0:\n",
    "        return False  # no ideological interactions at all\n",
    "\n",
    "    uid = row.name\n",
    "    is_big = uid in big_influencers\n",
    "    affil = row['User_Affil']\n",
    "\n",
    "    if affil == 'Democrat':\n",
    "        cross_share = row.get('Republican', 0) / total_interactions\n",
    "    elif affil == 'Republican':\n",
    "        cross_share = row.get('Democrat', 0) / total_interactions\n",
    "    else:\n",
    "        return False  # skip inconclusive users\n",
    "\n",
    "    if is_big:\n",
    "        return cross_share >= bridge_percent_threshold\n",
    "    else:\n",
    "        return (row.get('Republican', 0) if affil == 'Democrat' \n",
    "                else row.get('Democrat', 0)) >= 1  # original rule\n",
    "\n",
    "bridging_mask = (interactions['Democrat'] > 0) & (interactions['Republican'] > 0)\n",
    "\n",
    "valid_bridging = interactions[bridging_mask].copy()\n",
    "valid_bridging['Valid'] = valid_bridging.apply(has_enough_opposite_interactions, axis=1)\n",
    "\n",
    "bridging_users = valid_bridging[valid_bridging['Valid']].index.tolist()\n",
    "\n",
    "df['Is_Bridging_User'] = df['From-User-Id'].isin(bridging_users)\n",
    "df['Is_Recipient_Bridging'] = df['To-User-Id'].isin(bridging_users)\n",
    "\n",
    "print(f\"Number of valid bridging users: {len(bridging_users)}\")"
   ]
  },
  {
   "cell_type": "code",
   "execution_count": 106,
   "id": "c9cc58b0",
   "metadata": {},
   "outputs": [
    {
     "name": "stdout",
     "output_type": "stream",
     "text": [
      "Number of unique users who are both: 53572\n"
     ]
    }
   ],
   "source": [
    "both_users = df[df['Is_Bridging_User'] & df['is_big_influencer']]['From-User-Id'].unique()\n",
    "print(f\"Number of unique users who are both: {len(both_users)}\")"
   ]
  },
  {
   "cell_type": "code",
   "execution_count": 107,
   "id": "4e4a4a9b",
   "metadata": {},
   "outputs": [
    {
     "name": "stdout",
     "output_type": "stream",
     "text": [
      "53,572 of 87,706 big influencers are bridging users (61.08%).\n"
     ]
    }
   ],
   "source": [
    "# -------- sets of UNIQUE users --------\n",
    "big_influencers = set(top_percentile_users.index)      # ≈ 8 642 users\n",
    "bridgers        = set(bridging_users)                  # from earlier step\n",
    "both_big_and_bridging = big_influencers & bridgers     # intersection\n",
    "\n",
    "# -------- compute & print rate --------\n",
    "rate_big_infl_bridging = len(both_big_and_bridging) / len(big_influencers)\n",
    "print(f\"{len(both_big_and_bridging):,} of {len(big_influencers):,} \"\n",
    "      f\"big influencers are bridging users \"\n",
    "      f\"({rate_big_infl_bridging:.2%}).\")\n"
   ]
  },
  {
   "cell_type": "code",
   "execution_count": 108,
   "id": "80527d1f",
   "metadata": {},
   "outputs": [
    {
     "name": "stdout",
     "output_type": "stream",
     "text": [
      "Bridging rate   – big  influencers: 61.08%\n",
      "Bridging rate   – non‑big users   : 6.56%\n"
     ]
    }
   ],
   "source": [
    "all_users       = set(df['From-User-Id'].unique())\n",
    "non_big         = all_users - big_influencers\n",
    "\n",
    "# bridging rate among non‑big users\n",
    "rate_non_big_bridging = len(bridgers & non_big) / len(non_big)\n",
    "\n",
    "print(f\"Bridging rate   – big  influencers: {rate_big_infl_bridging:.2%}\")\n",
    "print(f\"Bridging rate   – non‑big users   : {rate_non_big_bridging:.2%}\")\n"
   ]
  },
  {
   "cell_type": "code",
   "execution_count": 109,
   "id": "258a7eb1",
   "metadata": {},
   "outputs": [
    {
     "name": "stdout",
     "output_type": "stream",
     "text": [
      "Average edge count – big influencers   : 43.88\n",
      "Average edge count – non‑big users     : 2.04\n",
      "Median edge count  - big influencers   : 17.00\n",
      "Median edge count  - non-big users     : 1.00\n"
     ]
    }
   ],
   "source": [
    "big_influencers = set(top_percentile_users.index)\n",
    "all_users = set(total_edge_counts.index)\n",
    "non_big_users = all_users - big_influencers\n",
    "\n",
    "big_user_edges = total_edge_counts.loc[list(big_influencers)]\n",
    "non_big_user_edges = total_edge_counts.loc[list(non_big_users)]\n",
    "\n",
    "avg_edges_big = big_user_edges.mean()\n",
    "avg_edges_non_big = non_big_user_edges.mean()\n",
    "\n",
    "median_edges_big = big_user_edges.median()\n",
    "median_edges_non_big = non_big_user_edges.median()\n",
    "\n",
    "# Print results\n",
    "print(f\"Average edge count – big influencers   : {avg_edges_big:.2f}\")\n",
    "print(f\"Average edge count – non‑big users     : {avg_edges_non_big:.2f}\")\n",
    "\n",
    "print(f\"Median edge count  - big influencers   : {median_edges_big:.2f}\")\n",
    "print(f\"Median edge count  - non-big users     : {median_edges_non_big:.2f}\")"
   ]
  }
 ],
 "metadata": {
  "kernelspec": {
   "display_name": "base",
   "language": "python",
   "name": "python3"
  },
  "language_info": {
   "codemirror_mode": {
    "name": "ipython",
    "version": 3
   },
   "file_extension": ".py",
   "mimetype": "text/x-python",
   "name": "python",
   "nbconvert_exporter": "python",
   "pygments_lexer": "ipython3",
   "version": "3.12.3"
  }
 },
 "nbformat": 4,
 "nbformat_minor": 5
}
