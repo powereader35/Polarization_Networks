{
 "cells": [
  {
   "cell_type": "markdown",
   "id": "60da0b51",
   "metadata": {},
   "source": [
    "### Project Description\n",
    "\n",
    "1) Users who engage with both ideological groups are uncommon and receive more negative engagement compared to users who don't\n",
    "\n",
    "2) Over time, approaching the election, users’ tweets become more negatively charged\n",
    "\n",
    "3) Tweets (non-bridging) identified as left leaning use more negative terms while tweets identified with right ideologies use more positive terms"
   ]
  },
  {
   "cell_type": "code",
   "execution_count": 17,
   "id": "0447d089",
   "metadata": {},
   "outputs": [],
   "source": [
    "import pandas as pd\n",
    "import matplotlib.pyplot as plt\n",
    "\n",
    "# replace with your own relative file path\n",
    "df = pd.read_csv(\"data_twitter/clean_tweets_directed.csv\", sep = \",\")\n"
   ]
  },
  {
   "cell_type": "code",
   "execution_count": 18,
   "id": "b1c598d5",
   "metadata": {},
   "outputs": [
    {
     "data": {
      "text/plain": [
       "1284852"
      ]
     },
     "execution_count": 18,
     "metadata": {},
     "output_type": "execute_result"
    }
   ],
   "source": [
    "# IDENTIFYING bridging users\n",
    "df['PartyName'] = df['PartyName'].str.title()\n",
    "df['To-Ideology'] = df['PartyName'].map({\n",
    "    'Democrats': 'left',\n",
    "    'Republicans': 'right',\n",
    "    'Bothparty': 'center',\n",
    "    'Neither' : 'other',\n",
    "})\n",
    "\n",
    "df_filtered = df[df['To-Ideology'].isin(['left','right'])]\n",
    "\n",
    "interactions = df_filtered.pivot_table(index='From-User-Id',\n",
    "               columns='To-Ideology',\n",
    "               values='Score',   \n",
    "               aggfunc='count',\n",
    "               fill_value=0)\n",
    "\n",
    "len(interactions)"
   ]
  },
  {
   "cell_type": "code",
   "execution_count": 19,
   "id": "a09aa39d",
   "metadata": {},
   "outputs": [
    {
     "name": "stdout",
     "output_type": "stream",
     "text": [
      "204455\n"
     ]
    }
   ],
   "source": [
    "bridging_users = interactions[(interactions['left'] > 0) & (interactions['right'] > 0)].index.tolist()\n",
    "df['Is_Bridging_User'] = df['From-User-Id'].isin(bridging_users)\n",
    "df['Is_Recipient_Bridging'] = df['To-User-Id'].isin(bridging_users)\n",
    "print(len(bridging_users))"
   ]
  },
  {
   "cell_type": "markdown",
   "id": "ff723035",
   "metadata": {},
   "source": [
    "#### Consistency Checks"
   ]
  },
  {
   "cell_type": "code",
   "execution_count": 20,
   "id": "e13f8210",
   "metadata": {},
   "outputs": [
    {
     "data": {
      "text/plain": [
       "True"
      ]
     },
     "execution_count": 20,
     "metadata": {},
     "output_type": "execute_result"
    }
   ],
   "source": [
    "len(df[df['Is_Bridging_User']]['From-User-Id'].unique()) == len(bridging_users)"
   ]
  },
  {
   "cell_type": "code",
   "execution_count": 21,
   "id": "e751399c",
   "metadata": {},
   "outputs": [],
   "source": [
    "bridging_from_df = set(df[df['Is_Bridging_User']]['From-User-Id'].unique())\n",
    "\n",
    "bridging_from_logic = set(bridging_users)\n",
    "\n",
    "assert bridging_from_df == bridging_from_logic, \"Mismatch in bridging user labeling\""
   ]
  },
  {
   "cell_type": "code",
   "execution_count": 22,
   "id": "064e95ba",
   "metadata": {},
   "outputs": [],
   "source": [
    "interactions['left > 0'] = interactions['left'] > 0\n",
    "interactions['right > 0'] = interactions['right'] > 0\n",
    "\n",
    "assert all(interactions.loc[bridging_users, ['left > 0', 'right > 0']].all(axis=1)), \\\n",
    "       \"Some bridging users do not interact with both sides\"\n"
   ]
  },
  {
   "cell_type": "code",
   "execution_count": 23,
   "id": "9312701e",
   "metadata": {},
   "outputs": [],
   "source": [
    "assert df['To-Ideology'].notna().all(), \"Missing To-Ideology values\""
   ]
  }
 ],
 "metadata": {
  "kernelspec": {
   "display_name": "base",
   "language": "python",
   "name": "python3"
  },
  "language_info": {
   "codemirror_mode": {
    "name": "ipython",
    "version": 3
   },
   "file_extension": ".py",
   "mimetype": "text/x-python",
   "name": "python",
   "nbconvert_exporter": "python",
   "pygments_lexer": "ipython3",
   "version": "3.12.3"
  }
 },
 "nbformat": 4,
 "nbformat_minor": 5
}
