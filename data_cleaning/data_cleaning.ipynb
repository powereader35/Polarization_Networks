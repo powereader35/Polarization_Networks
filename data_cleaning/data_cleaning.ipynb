{
 "cells": [
  {
   "cell_type": "code",
   "execution_count": 1,
   "id": "fb7d4eb1",
   "metadata": {},
   "outputs": [
    {
     "name": "stdout",
     "output_type": "stream",
     "text": [
      "<class 'pandas.core.frame.DataFrame'>\n",
      "RangeIndex: 10000 entries, 0 to 9999\n",
      "Data columns (total 13 columns):\n",
      " #   Column            Non-Null Count  Dtype  \n",
      "---  ------            --------------  -----  \n",
      " 0   Created-At        10000 non-null  object \n",
      " 1   From-User-Id      10000 non-null  int64  \n",
      " 2   To-User-Id        10000 non-null  int64  \n",
      " 3   Language          10000 non-null  object \n",
      " 4   Retweet-Count     10000 non-null  float64\n",
      " 5   PartyName         10000 non-null  object \n",
      " 6   Id                10000 non-null  int64  \n",
      " 7   Score             10000 non-null  float64\n",
      " 8   Scoring String    7696 non-null   object \n",
      " 9   Negativity        10000 non-null  float64\n",
      " 10  Positivity        10000 non-null  float64\n",
      " 11  Uncovered Tokens  10000 non-null  int64  \n",
      " 12  Total Tokens      10000 non-null  int64  \n",
      "dtypes: float64(4), int64(5), object(4)\n",
      "memory usage: 1015.8+ KB\n"
     ]
    },
    {
     "data": {
      "text/plain": [
       "(None,\n",
       "        Created-At         From-User-Id  To-User-Id Language  Retweet-Count  \\\n",
       " 0  7/1/20 7:44 PM  1223446325758394369   387882597       en            0.0   \n",
       " 1  7/1/20 7:44 PM  1001407960252342273          -1       en          178.0   \n",
       " 2  7/1/20 7:44 PM  1178522693840392195          -1       en            2.0   \n",
       " 3  7/1/20 7:44 PM             64267482    65497475       en            0.0   \n",
       " 4  7/1/20 7:44 PM  1068507190103699456          -1       en           28.0   \n",
       " \n",
       "      PartyName                   Id     Score  \\\n",
       " 0    BothParty  1278368973948694528  0.102564   \n",
       " 1  Republicans  1278368973923528704 -0.589744   \n",
       " 2    Democrats  1278368973910937600  0.692308   \n",
       " 3  Republicans  1278368973893951489 -1.461538   \n",
       " 4  Republicans  1278368973881511936  0.025641   \n",
       " \n",
       "                                       Scoring String  Negativity  Positivity  \\\n",
       " 0         yep (0.31)  torturing (-0.77)  care (0.56)    0.769231    0.871795   \n",
       " 1                                       ugly (-0.59)    0.589744    0.000000   \n",
       " 2                            okay (0.23)  lol (0.46)    0.000000    0.692308   \n",
       " 3  damage (-0.56)  incompetent (-0.54)  resign (-...    1.461538    0.000000   \n",
       " 4         clean (0.44)  threat (-0.62)  admit (0.21)    0.615385    0.641026   \n",
       " \n",
       "    Uncovered Tokens  Total Tokens  \n",
       " 0                21            24  \n",
       " 1                22            23  \n",
       " 2                17            19  \n",
       " 3                30            33  \n",
       " 4                28            31  )"
      ]
     },
     "execution_count": 1,
     "metadata": {},
     "output_type": "execute_result"
    }
   ],
   "source": [
    "import pandas as pd\n",
    "\n",
    "# replace with your own relative file path\n",
    "df = pd.read_csv(\"C:/Users/justi/OneDrive/Desktop/BU RISE/github/data_twitter/uselection_tweets_1jul_11nov_reduced_size.csv\", sep = \";\")\n",
    "\n",
    "df.info(),df.head()"
   ]
  },
  {
   "cell_type": "code",
   "execution_count": 2,
   "id": "9586c9df",
   "metadata": {},
   "outputs": [
    {
     "name": "stdout",
     "output_type": "stream",
     "text": [
      "<class 'pandas.core.frame.DataFrame'>\n",
      "Index: 1550 entries, 0 to 9998\n",
      "Data columns (total 13 columns):\n",
      " #   Column            Non-Null Count  Dtype         \n",
      "---  ------            --------------  -----         \n",
      " 0   Created-At        1550 non-null   datetime64[ns]\n",
      " 1   From-User-Id      1550 non-null   object        \n",
      " 2   To-User-Id        1550 non-null   object        \n",
      " 3   Language          1550 non-null   object        \n",
      " 4   Retweet-Count     1550 non-null   float64       \n",
      " 5   PartyName         1550 non-null   object        \n",
      " 6   Id                1550 non-null   object        \n",
      " 7   Score             1550 non-null   float64       \n",
      " 8   Scoring String    1550 non-null   object        \n",
      " 9   Negativity        1550 non-null   float64       \n",
      " 10  Positivity        1550 non-null   float64       \n",
      " 11  Uncovered Tokens  1550 non-null   int64         \n",
      " 12  Total Tokens      1550 non-null   int64         \n",
      "dtypes: datetime64[ns](1), float64(4), int64(2), object(6)\n",
      "memory usage: 169.5+ KB\n"
     ]
    },
    {
     "data": {
      "text/plain": [
       "(            Created-At         From-User-Id  To-User-Id Language  \\\n",
       " 0  2020-07-01 19:44:00  1223446325758394369   387882597       en   \n",
       " 3  2020-07-01 19:44:00             64267482    65497475       en   \n",
       " 18 2020-07-01 19:44:00            936858992    79699927       en   \n",
       " 22 2020-07-01 19:44:00           2782429566  2439198739       en   \n",
       " 39 2020-07-01 19:44:00             19612969   378897510       en   \n",
       " \n",
       "     Retweet-Count    PartyName                   Id     Score  \\\n",
       " 0             0.0    BothParty  1278368973948694528  0.102564   \n",
       " 3             0.0  Republicans  1278368973893951489 -1.461538   \n",
       " 18            0.0  Republicans  1278368973315244032 -0.358974   \n",
       " 22            0.0  Republicans  1278368972929470465 -0.794872   \n",
       " 39            0.0  Republicans  1278368971989880837 -0.769231   \n",
       " \n",
       "                                        Scoring String  Negativity  Positivity  \\\n",
       " 0          yep (0.31)  torturing (-0.77)  care (0.56)    0.769231    0.871795   \n",
       " 3   damage (-0.56)  incompetent (-0.54)  resign (-...    1.461538    0.000000   \n",
       " 18  support (0.44)  lost (-0.33)  supporting (0.49...    1.282051    0.923077   \n",
       " 22                        stop (-0.31)  block (-0.49)    0.794872    0.000000   \n",
       " 39                                    murders (-0.77)    0.769231    0.000000   \n",
       " \n",
       "     Uncovered Tokens  Total Tokens  \n",
       " 0                 21            24  \n",
       " 3                 30            33  \n",
       " 18                43            47  \n",
       " 22                92            94  \n",
       " 39                10            11  ,\n",
       " None)"
      ]
     },
     "execution_count": 2,
     "metadata": {},
     "output_type": "execute_result"
    }
   ],
   "source": [
    "df['Created-At'] = pd.to_datetime(df['Created-At'], format=\"%m/%d/%y %I:%M %p\", errors='coerce')\n",
    "df['To-User-Id'] = df['To-User-Id'].replace(-1, pd.NA)\n",
    "df = df.dropna()\n",
    "df['From-User-Id'] = df['From-User-Id'].astype(str)\n",
    "df['To-User-Id'] = df['To-User-Id'].astype(str)\n",
    "df['Id'] = df['Id'].astype(str)\n",
    "df['Language'] = df['Language'].str.lower()\n",
    "df = df.drop_duplicates(subset='Id')\n",
    "df = df[df['Total Tokens'] > 0]\n",
    "df = df[df['From-User-Id'] != df['To-User-Id']]\n",
    "\n",
    "df.head(),df.info()"
   ]
  }
 ],
 "metadata": {
  "kernelspec": {
   "display_name": "base",
   "language": "python",
   "name": "python3"
  },
  "language_info": {
   "codemirror_mode": {
    "name": "ipython",
    "version": 3
   },
   "file_extension": ".py",
   "mimetype": "text/x-python",
   "name": "python",
   "nbconvert_exporter": "python",
   "pygments_lexer": "ipython3",
   "version": "3.12.3"
  }
 },
 "nbformat": 4,
 "nbformat_minor": 5
}
